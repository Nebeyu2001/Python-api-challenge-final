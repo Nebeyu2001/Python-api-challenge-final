{
 "cells": [
  {
   "cell_type": "markdown",
   "metadata": {},
   "source": [
    "# WeatherPy\n",
    "----\n",
    "\n",
    "#### Note\n",
    "* Instructions have been included for each segment. You do not have to follow them exactly, but they are included to help you think through the steps."
   ]
  },
  {
   "cell_type": "code",
   "execution_count": 2,
   "metadata": {
    "scrolled": true
   },
   "outputs": [],
   "source": [
    "# Dependencies and Setup\n",
    "import matplotlib.pyplot as plt\n",
    "import pandas as pd\n",
    "import numpy as np\n",
    "import requests\n",
    "import time\n",
    "#from scipy.stats import linregress as st\n",
    "import scipy.stats as st\n",
    "\n",
    "# Import API key\n",
    "from api_keys import weather_api_key\n",
    "\n",
    "# Incorporated citipy to determine city based on latitude and longitude\n",
    "from citipy import citipy\n",
    "\n",
    "# Output File (CSV)\n",
    "output_data_file = \"output_data/cities.csv\"\n",
    "\n",
    "# Range of latitudes and longitudes\n",
    "lat_range = (-90, 90)\n",
    "lng_range = (-180, 180)\n"
   ]
  },
  {
   "cell_type": "markdown",
   "metadata": {},
   "source": [
    "## Generate Cities List"
   ]
  },
  {
   "cell_type": "code",
   "execution_count": 3,
   "metadata": {},
   "outputs": [
    {
     "data": {
      "text/plain": [
       "614"
      ]
     },
     "execution_count": 3,
     "metadata": {},
     "output_type": "execute_result"
    }
   ],
   "source": [
    "# List for holding lat_lngs and cities\n",
    "lat_lngs = []\n",
    "cities = []\n",
    "\n",
    "# Create a set of random lat and lng combinations\n",
    "lats = np.random.uniform(lat_range[0], lat_range[1], size=1500)\n",
    "lngs = np.random.uniform(lng_range[0], lng_range[1], size=1500)\n",
    "lat_lngs = zip(lats, lngs)\n",
    "\n",
    "# Identify nearest city for each lat, lng combination\n",
    "for lat_lng in lat_lngs:\n",
    "    city = citipy.nearest_city(lat_lng[0], lat_lng[1]).city_name\n",
    "    \n",
    "    # If the city is unique, then add it to a our cities list\n",
    "    if city not in cities:\n",
    "        cities.append(city)\n",
    "\n",
    "# Print the city count to confirm sufficient count\n",
    "len(cities)"
   ]
  },
  {
   "cell_type": "markdown",
   "metadata": {},
   "source": [
    "### Perform API Calls\n",
    "* Perform a weather check on each city using a series of successive API calls.\n",
    "* Include a print log of each city as it'sbeing processed (with the city number and city name).\n"
   ]
  },
  {
   "cell_type": "code",
   "execution_count": 4,
   "metadata": {},
   "outputs": [
    {
     "name": "stdout",
     "output_type": "stream",
     "text": [
      "Processing Record 0|albany\n",
      "Processing Record 1|dargaville\n",
      "Processing Record 2|bukachacha\n",
      "Processing Record 3|vila do maio\n",
      "Processing Record 4|ondjiva\n",
      "Processing Record 5|chokurdakh\n",
      "City not found. Skipping...\n",
      "Processing Record 7|vaini\n",
      "Processing Record 8|ardakan\n",
      "Processing Record 9|rikitea\n",
      "Processing Record 10|hithadhoo\n",
      "City not found. Skipping...\n",
      "Processing Record 12|jamame\n",
      "Processing Record 13|kapaa\n",
      "Processing Record 14|mount isa\n",
      "Processing Record 15|kismayo\n",
      "Processing Record 16|kodiak\n",
      "City not found. Skipping...\n",
      "Processing Record 18|ushuaia\n",
      "Processing Record 19|east london\n",
      "Processing Record 20|evensk\n",
      "Processing Record 21|longyearbyen\n",
      "Processing Record 22|santa cruz\n",
      "Processing Record 23|beloha\n",
      "Processing Record 24|pimentel\n",
      "Processing Record 25|road town\n",
      "Processing Record 26|cherskiy\n",
      "Processing Record 27|new norfolk\n",
      "Processing Record 28|cabo san lucas\n",
      "Processing Record 29|cape town\n",
      "Processing Record 30|bluff\n",
      "Processing Record 31|chipata\n",
      "Processing Record 32|butaritari\n",
      "Processing Record 33|kaitangata\n",
      "Processing Record 34|hobart\n",
      "Processing Record 35|punta arenas\n",
      "Processing Record 36|juigalpa\n",
      "Processing Record 37|mataura\n",
      "Processing Record 38|puri\n",
      "Processing Record 39|eureka\n",
      "Processing Record 40|mar del plata\n",
      "Processing Record 41|kumluca\n",
      "Processing Record 42|airai\n",
      "Processing Record 43|busselton\n",
      "Processing Record 44|thompson\n",
      "Processing Record 45|kaseda\n",
      "Processing Record 46|carnarvon\n",
      "Processing Record 47|sotouboua\n",
      "Processing Record 48|borogontsy\n",
      "Processing Record 49|wainwright\n",
      "Processing Record 50|bengkulu\n",
      "Processing Record 51|ibotirama\n",
      "Processing Record 52|bredasdorp\n",
      "Processing Record 53|avarua\n",
      "Processing Record 54|nuuk\n",
      "Processing Record 55|pisco\n",
      "City not found. Skipping...\n",
      "Processing Record 57|georgetown\n",
      "Processing Record 58|vilyuysk\n",
      "Processing Record 59|westport\n",
      "City not found. Skipping...\n",
      "Processing Record 61|inuvik\n",
      "Processing Record 62|bethel\n",
      "Processing Record 63|hermanus\n",
      "Processing Record 64|jieshou\n",
      "Processing Record 65|lebu\n",
      "Processing Record 66|touros\n",
      "Processing Record 67|tasiilaq\n",
      "Processing Record 68|souillac\n",
      "Processing Record 69|mahon\n",
      "Processing Record 70|kokopo\n",
      "Processing Record 71|soligalich\n",
      "Processing Record 72|port alfred\n",
      "Processing Record 73|kashi\n",
      "Processing Record 74|atuona\n",
      "Processing Record 75|telsiai\n",
      "Processing Record 76|namibe\n",
      "Processing Record 77|omboue\n",
      "Processing Record 78|katsuura\n",
      "City not found. Skipping...\n",
      "Processing Record 80|port hardy\n",
      "City not found. Skipping...\n",
      "Processing Record 82|nanortalik\n",
      "Processing Record 83|victoria\n",
      "Processing Record 84|iqaluit\n",
      "Processing Record 85|brae\n",
      "Processing Record 86|mayo\n",
      "Processing Record 87|pitimbu\n",
      "Processing Record 88|qaanaaq\n",
      "Processing Record 89|honningsvag\n",
      "Processing Record 90|hirara\n",
      "Processing Record 91|puerto ayora\n",
      "Processing Record 92|tiksi\n",
      "Processing Record 93|dikson\n",
      "Processing Record 94|cookeville\n",
      "Processing Record 95|ambagarh chauki\n",
      "Processing Record 96|port elizabeth\n",
      "Processing Record 97|chor\n",
      "Processing Record 98|the valley\n",
      "City not found. Skipping...\n",
      "Processing Record 100|shimoda\n",
      "Processing Record 101|takoradi\n",
      "Processing Record 102|pevek\n",
      "Processing Record 103|cape canaveral\n",
      "Processing Record 104|talnakh\n",
      "Processing Record 105|rubtsovsk\n",
      "Processing Record 106|lavrentiya\n",
      "Processing Record 107|ribeira grande\n",
      "Processing Record 108|upernavik\n",
      "Processing Record 109|xiongzhou\n",
      "City not found. Skipping...\n",
      "Processing Record 111|khatanga\n",
      "Processing Record 112|alofi\n",
      "City not found. Skipping...\n",
      "Processing Record 114|cayenne\n",
      "Processing Record 115|amuntai\n",
      "Processing Record 116|arraial do cabo\n",
      "Processing Record 117|esperance\n",
      "Processing Record 118|ilulissat\n",
      "Processing Record 119|coruripe\n",
      "Processing Record 120|talaya\n",
      "City not found. Skipping...\n",
      "Processing Record 122|faanui\n",
      "Processing Record 123|bubaque\n",
      "Processing Record 124|kavieng\n",
      "Processing Record 125|saldanha\n",
      "Processing Record 126|markova\n",
      "Processing Record 127|easton\n",
      "Processing Record 128|ahipara\n",
      "Processing Record 129|pokhara\n",
      "Processing Record 130|tiarei\n",
      "Processing Record 131|tuktoyaktuk\n",
      "Processing Record 132|deloraine\n",
      "Processing Record 133|saint george\n",
      "Processing Record 134|torbay\n",
      "Processing Record 135|lazaro cardenas\n",
      "Processing Record 136|townsville\n",
      "Processing Record 137|portland\n",
      "Processing Record 138|hailar\n",
      "Processing Record 139|piranhas\n",
      "Processing Record 140|xichang\n",
      "Processing Record 141|sabang\n",
      "Processing Record 142|caucaia\n",
      "Processing Record 143|krasnoselkup\n",
      "City not found. Skipping...\n",
      "Processing Record 145|seoul\n",
      "Processing Record 146|faya\n",
      "Processing Record 147|klaksvik\n",
      "Processing Record 148|pafos\n",
      "Processing Record 149|mehamn\n",
      "Processing Record 150|olafsvik\n",
      "Processing Record 151|hovd\n",
      "Processing Record 152|centralia\n",
      "Processing Record 153|fort nelson\n",
      "Processing Record 154|balkanabat\n",
      "Processing Record 155|lata\n",
      "City not found. Skipping...\n",
      "Processing Record 157|yar-sale\n",
      "Processing Record 158|nome\n",
      "Processing Record 159|saint-philippe\n",
      "Processing Record 160|barrow\n",
      "Processing Record 161|cruz alta\n",
      "Processing Record 162|hilo\n",
      "Processing Record 163|nanakuli\n",
      "Processing Record 164|aasiaat\n",
      "Processing Record 165|jamestown\n",
      "City not found. Skipping...\n",
      "Processing Record 167|borgarnes\n",
      "Processing Record 168|jalu\n",
      "Processing Record 169|havre-saint-pierre\n",
      "Processing Record 170|lorengau\n",
      "Processing Record 171|zunyi\n",
      "City not found. Skipping...\n",
      "Processing Record 173|richards bay\n",
      "Processing Record 174|kidal\n",
      "Processing Record 175|biltine\n",
      "Processing Record 176|san patricio\n",
      "Processing Record 177|jacala\n",
      "Processing Record 178|kalnciems\n",
      "Processing Record 179|yellowknife\n",
      "City not found. Skipping...\n",
      "Processing Record 181|prince rupert\n",
      "Processing Record 182|tuatapere\n",
      "Processing Record 183|tshikapa\n",
      "Processing Record 184|lompoc\n",
      "Processing Record 185|mednogorsk\n",
      "Processing Record 186|san vicente de canete\n",
      "Processing Record 187|arkadelphia\n",
      "Processing Record 188|bogale\n",
      "Processing Record 189|dingle\n",
      "Processing Record 190|vao\n",
      "Processing Record 191|kahului\n",
      "Processing Record 192|sangar\n",
      "Processing Record 193|moberly\n",
      "Processing Record 194|marsa matruh\n",
      "Processing Record 195|adrar\n",
      "Processing Record 196|upata\n",
      "Processing Record 197|ewa beach\n",
      "Processing Record 198|leningradskiy\n",
      "Processing Record 199|mocuba\n",
      "Processing Record 200|cantaura\n",
      "Processing Record 201|paraiso\n",
      "Processing Record 202|pangnirtung\n",
      "Processing Record 203|vila\n",
      "Processing Record 204|ketchikan\n",
      "Processing Record 205|zarasai\n",
      "Processing Record 206|caravelas\n",
      "Processing Record 207|catuday\n",
      "Processing Record 208|dongling\n",
      "Processing Record 209|ust-kuyga\n",
      "Processing Record 210|maragogi\n",
      "Processing Record 211|grand-santi\n",
      "Processing Record 212|bac lieu\n",
      "Processing Record 213|provideniya\n",
      "Processing Record 214|clyde river\n",
      "Processing Record 215|rawson\n",
      "Processing Record 216|hofn\n",
      "Processing Record 217|fortuna\n",
      "Processing Record 218|ambanja\n",
      "City not found. Skipping...\n",
      "Processing Record 220|north bend\n",
      "Processing Record 221|ust-maya\n",
      "Processing Record 222|taltal\n",
      "Processing Record 223|el cobre\n",
      "Processing Record 224|waingapu\n",
      "Processing Record 225|severo-kurilsk\n",
      "City not found. Skipping...\n",
      "City not found. Skipping...\n",
      "Processing Record 228|tocache\n",
      "Processing Record 229|pemba\n",
      "Processing Record 230|shuangcheng\n",
      "Processing Record 231|korla\n",
      "Processing Record 232|khasan\n",
      "Processing Record 233|litovko\n",
      "Processing Record 234|stubbekobing\n",
      "Processing Record 235|kurilsk\n",
      "Processing Record 236|altay\n",
      "Processing Record 237|san juan\n",
      "Processing Record 238|ancud\n",
      "City not found. Skipping...\n",
      "Processing Record 240|cidreira\n",
      "Processing Record 241|tornio\n",
      "Processing Record 242|pyapon\n",
      "Processing Record 243|luderitz\n",
      "Processing Record 244|te anau\n",
      "Processing Record 245|nikolskoye\n",
      "Processing Record 246|stepantsevo\n",
      "Processing Record 247|nuzvid\n",
      "Processing Record 248|largo\n",
      "Processing Record 249|palu\n",
      "Processing Record 250|escarcega\n",
      "Processing Record 251|vernon\n",
      "Processing Record 252|kriel\n",
      "Processing Record 253|sao filipe\n",
      "Processing Record 254|nagornskiy\n",
      "Processing Record 255|edd\n",
      "Processing Record 256|codrington\n",
      "Processing Record 257|sistranda\n",
      "Processing Record 258|makubetsu\n",
      "Processing Record 259|nueva gerona\n",
      "Processing Record 260|bulawayo\n",
      "Processing Record 261|barra do garcas\n",
      "Processing Record 262|lekoni\n",
      "Processing Record 263|kavaratti\n",
      "Processing Record 264|necochea\n",
      "Processing Record 265|kichera\n",
      "Processing Record 266|guadalupe victoria\n",
      "Processing Record 267|castro\n",
      "City not found. Skipping...\n",
      "Processing Record 269|aksarayskiy\n"
     ]
    },
    {
     "name": "stdout",
     "output_type": "stream",
     "text": [
      "Processing Record 270|coolum beach\n",
      "Processing Record 271|hasaki\n",
      "Processing Record 272|rocha\n",
      "Processing Record 273|the pas\n",
      "Processing Record 274|sao gabriel\n",
      "Processing Record 275|kaeo\n",
      "Processing Record 276|ahar\n",
      "Processing Record 277|azul\n",
      "Processing Record 278|waynesboro\n",
      "Processing Record 279|batagay-alyta\n",
      "Processing Record 280|constantine\n",
      "Processing Record 281|beeville\n",
      "Processing Record 282|panzhihua\n",
      "Processing Record 283|margate\n",
      "Processing Record 284|bonfim\n",
      "Processing Record 285|guerrero negro\n",
      "Processing Record 286|sept-iles\n",
      "Processing Record 287|vostok\n",
      "Processing Record 288|rundu\n",
      "Processing Record 289|kefamenanu\n",
      "Processing Record 290|aljezur\n",
      "City not found. Skipping...\n",
      "Processing Record 292|berlevag\n",
      "Processing Record 293|salinas\n",
      "Processing Record 294|emerald\n",
      "Processing Record 295|chifeng\n",
      "Processing Record 296|tres arroyos\n",
      "Processing Record 297|tessalit\n",
      "Processing Record 298|hami\n",
      "Processing Record 299|mount gambier\n",
      "Processing Record 300|chateaubelair\n",
      "Processing Record 301|goma\n",
      "Processing Record 302|mount pleasant\n",
      "Processing Record 303|ponta do sol\n",
      "Processing Record 304|narsaq\n",
      "Processing Record 305|lillehammer\n",
      "Processing Record 306|nauta\n",
      "Processing Record 307|tsaratanana\n",
      "Processing Record 308|solnechnyy\n",
      "Processing Record 309|lasa\n",
      "Processing Record 310|gobabis\n",
      "Processing Record 311|muros\n",
      "Processing Record 312|bathsheba\n",
      "Processing Record 313|san policarpo\n",
      "Processing Record 314|erenhot\n",
      "Processing Record 315|liure\n",
      "Processing Record 316|nouadhibou\n",
      "Processing Record 317|rabaul\n",
      "Processing Record 318|nishihara\n",
      "Processing Record 319|bang saphan\n",
      "Processing Record 320|marquette\n",
      "City not found. Skipping...\n",
      "Processing Record 322|cairns\n",
      "Processing Record 323|pervomayskoye\n",
      "Processing Record 324|boueni\n",
      "Processing Record 325|brockville\n",
      "Processing Record 326|thohoyandou\n",
      "Processing Record 327|locri\n",
      "City not found. Skipping...\n",
      "Processing Record 329|sur\n",
      "Processing Record 330|vestmannaeyjar\n",
      "Processing Record 331|assiniboia\n",
      "Processing Record 332|namatanai\n",
      "Processing Record 333|effium\n",
      "Processing Record 334|mancheral\n",
      "Processing Record 335|crossville\n",
      "Processing Record 336|vangaindrano\n",
      "Processing Record 337|padang\n",
      "Processing Record 338|vila franca do campo\n",
      "Processing Record 339|ormara\n",
      "Processing Record 340|nyurba\n",
      "Processing Record 341|mega\n",
      "Processing Record 342|saskylakh\n",
      "Processing Record 343|port-gentil\n",
      "Processing Record 344|srednekolymsk\n",
      "Processing Record 345|nitra\n",
      "Processing Record 346|christchurch\n",
      "Processing Record 347|chuy\n",
      "Processing Record 348|mahebourg\n",
      "Processing Record 349|pestovo\n",
      "Processing Record 350|podolinec\n",
      "Processing Record 351|sokoni\n",
      "Processing Record 352|kawalu\n",
      "Processing Record 353|hamilton\n",
      "Processing Record 354|bonavista\n",
      "City not found. Skipping...\n",
      "Processing Record 356|bonthe\n",
      "Processing Record 357|saint anthony\n",
      "City not found. Skipping...\n",
      "Processing Record 359|nioro\n",
      "Processing Record 360|lhokseumawe\n",
      "Processing Record 361|salalah\n",
      "Processing Record 362|fort frances\n",
      "Processing Record 363|galveston\n",
      "City not found. Skipping...\n",
      "Processing Record 365|castelo branco\n",
      "City not found. Skipping...\n",
      "Processing Record 367|ust-omchug\n",
      "Processing Record 368|dumai\n",
      "Processing Record 369|ostrovnoy\n",
      "City not found. Skipping...\n",
      "Processing Record 371|kuryk\n",
      "Processing Record 372|mitsamiouli\n",
      "Processing Record 373|sibolga\n",
      "Processing Record 374|sao joao da barra\n",
      "Processing Record 375|kruisfontein\n",
      "Processing Record 376|grand gaube\n",
      "Processing Record 377|olean\n",
      "Processing Record 378|shelburne\n",
      "Processing Record 379|taperoa\n",
      "Processing Record 380|zuidhorn\n",
      "Processing Record 381|saint-leu\n",
      "Processing Record 382|port hedland\n",
      "Processing Record 383|kaspiysk\n",
      "Processing Record 384|umm lajj\n",
      "Processing Record 385|crown point\n",
      "Processing Record 386|bagrami\n",
      "Processing Record 387|norman wells\n",
      "Processing Record 388|kodinsk\n",
      "Processing Record 389|santa lucia\n",
      "Processing Record 390|johnson city\n",
      "Processing Record 391|fairbanks\n",
      "Processing Record 392|nabire\n",
      "Processing Record 393|uruguaiana\n",
      "Processing Record 394|erzin\n",
      "Processing Record 395|sabzevar\n",
      "Processing Record 396|sarangani\n",
      "City not found. Skipping...\n",
      "Processing Record 398|beringovskiy\n",
      "Processing Record 399|morondava\n",
      "Processing Record 400|tautira\n",
      "Processing Record 401|pocone\n",
      "Processing Record 402|boyolangu\n",
      "Processing Record 403|hopelchen\n",
      "Processing Record 404|morgan city\n",
      "Processing Record 405|san cristobal\n",
      "Processing Record 406|alexandria\n",
      "City not found. Skipping...\n",
      "Processing Record 408|progreso\n",
      "Processing Record 409|esil\n",
      "Processing Record 410|barcelos\n",
      "Processing Record 411|port macquarie\n",
      "Processing Record 412|salamanca\n",
      "Processing Record 413|samarai\n",
      "Processing Record 414|yertsevo\n",
      "Processing Record 415|gravdal\n",
      "Processing Record 416|goure\n",
      "City not found. Skipping...\n",
      "Processing Record 418|sungaipenuh\n",
      "Processing Record 419|terenos\n",
      "Processing Record 420|camacupa\n",
      "Processing Record 421|todos santos\n",
      "Processing Record 422|sinnamary\n",
      "Processing Record 423|gandajika\n",
      "Processing Record 424|mumford\n",
      "Processing Record 425|frontera\n",
      "Processing Record 426|tungor\n",
      "Processing Record 427|jiazi\n",
      "Processing Record 428|san rafael\n",
      "Processing Record 429|buala\n",
      "Processing Record 430|estreito\n",
      "City not found. Skipping...\n",
      "Processing Record 432|yumen\n",
      "Processing Record 433|aklavik\n",
      "City not found. Skipping...\n",
      "City not found. Skipping...\n",
      "Processing Record 436|kurgan\n",
      "Processing Record 437|hervey bay\n",
      "Processing Record 438|soe\n",
      "Processing Record 439|mareeba\n",
      "Processing Record 440|kununurra\n",
      "Processing Record 441|zykovo\n",
      "Processing Record 442|trairi\n",
      "Processing Record 443|axim\n",
      "Processing Record 444|beaverlodge\n",
      "Processing Record 445|santa rosa\n",
      "Processing Record 446|tura\n",
      "Processing Record 447|uren\n",
      "Processing Record 448|wuhan\n",
      "Processing Record 449|abu dhabi\n",
      "Processing Record 450|tevriz\n",
      "Processing Record 451|bima\n",
      "Processing Record 452|yabrud\n",
      "Processing Record 453|lucapa\n",
      "Processing Record 454|zhanaozen\n",
      "Processing Record 455|porto franco\n",
      "Processing Record 456|ajaccio\n",
      "Processing Record 457|xapuri\n",
      "Processing Record 458|zhigansk\n",
      "Processing Record 459|thinadhoo\n",
      "Processing Record 460|visby\n",
      "Processing Record 461|kiunga\n",
      "Processing Record 462|college\n",
      "Processing Record 463|gewane\n",
      "Processing Record 464|bandarbeyla\n",
      "Processing Record 465|haines junction\n",
      "Processing Record 466|wageningen\n",
      "Processing Record 467|teacapan\n",
      "Processing Record 468|constitucion\n",
      "Processing Record 469|los llanos de aridane\n",
      "Processing Record 470|pitkyaranta\n",
      "Processing Record 471|sapernoye\n",
      "Processing Record 472|kiama\n",
      "Processing Record 473|viedma\n",
      "City not found. Skipping...\n",
      "Processing Record 475|yulara\n",
      "Processing Record 476|dunmanway\n",
      "Processing Record 477|kabinda\n",
      "Processing Record 478|jacqueville\n",
      "Processing Record 479|ailigandi\n",
      "Processing Record 480|zaragoza\n",
      "Processing Record 481|arlit\n",
      "Processing Record 482|kilindoni\n",
      "Processing Record 483|nemuro\n",
      "Processing Record 484|palmeira\n",
      "Processing Record 485|west wendover\n",
      "Processing Record 486|suhbaatar\n",
      "Processing Record 487|broken hill\n",
      "Processing Record 488|darhan\n",
      "Processing Record 489|friedland\n",
      "Processing Record 490|cocachacra\n",
      "Processing Record 491|lushoto\n",
      "Processing Record 492|kingston\n",
      "Processing Record 493|champerico\n",
      "Processing Record 494|toktogul\n",
      "Processing Record 495|flin flon\n",
      "Processing Record 496|geraldton\n",
      "Processing Record 497|kongoussi\n",
      "Processing Record 498|khowst\n",
      "Processing Record 499|atherton\n",
      "Processing Record 500|birjand\n",
      "Processing Record 501|high level\n",
      "Processing Record 502|mosalsk\n",
      "Processing Record 503|wildwood\n",
      "Processing Record 504|alyangula\n",
      "Processing Record 505|lisakovsk\n",
      "Processing Record 506|svetlaya\n",
      "Processing Record 507|skjervoy\n",
      "Processing Record 508|mossendjo\n",
      "Processing Record 509|krutinka\n",
      "Processing Record 510|saint-pierre\n",
      "Processing Record 511|sitka\n",
      "Processing Record 512|port huron\n",
      "Processing Record 513|guayabal\n",
      "Processing Record 514|belaya gora\n",
      "Processing Record 515|yerbogachen\n",
      "City not found. Skipping...\n",
      "Processing Record 517|slave lake\n",
      "Processing Record 518|carutapera\n",
      "Processing Record 519|hangu\n",
      "Processing Record 520|kathu\n",
      "Processing Record 521|camacha\n",
      "Processing Record 522|ust-tsilma\n",
      "City not found. Skipping...\n",
      "Processing Record 524|ulundi\n",
      "Processing Record 525|roswell\n",
      "Processing Record 526|vardo\n",
      "Processing Record 527|leshukonskoye\n",
      "Processing Record 528|wanaka\n",
      "Processing Record 529|taoudenni\n",
      "Processing Record 530|rognan\n",
      "Processing Record 531|deer lake\n",
      "Processing Record 532|juru\n",
      "Processing Record 533|bermejo\n"
     ]
    },
    {
     "name": "stdout",
     "output_type": "stream",
     "text": [
      "Processing Record 534|rock sound\n",
      "Processing Record 535|pundaguitan\n",
      "Processing Record 536|srednebelaya\n",
      "Processing Record 537|bone\n",
      "Processing Record 538|tricase\n",
      "Processing Record 539|obo\n",
      "Processing Record 540|sola\n",
      "Processing Record 541|lanquin\n",
      "Processing Record 542|zhezkazgan\n",
      "Processing Record 543|flinders\n",
      "Processing Record 544|ust-karsk\n",
      "Processing Record 545|gornopravdinsk\n",
      "Processing Record 546|grindavik\n",
      "Processing Record 547|turukhansk\n",
      "Processing Record 548|sicuani\n",
      "Processing Record 549|stephenville\n",
      "Processing Record 550|kieta\n",
      "Processing Record 551|baryatino\n",
      "Processing Record 552|willmar\n",
      "Processing Record 553|broome\n",
      "Processing Record 554|birganj\n",
      "Processing Record 555|okhotsk\n",
      "Processing Record 556|hobyo\n",
      "Processing Record 557|chumikan\n",
      "Processing Record 558|antalaha\n",
      "Processing Record 559|puerto narino\n",
      "Processing Record 560|boke\n",
      "Processing Record 561|bosaso\n",
      "Processing Record 562|tooele\n",
      "Processing Record 563|fukue\n",
      "Processing Record 564|singaparna\n",
      "Processing Record 565|buchanan\n",
      "Processing Record 566|valsad\n",
      "Processing Record 567|ust-ishim\n",
      "Processing Record 568|coihaique\n",
      "Processing Record 569|gao\n",
      "City not found. Skipping...\n",
      "Processing Record 571|linares\n",
      "Processing Record 572|butajira\n",
      "Processing Record 573|januaria\n",
      "Processing Record 574|vanimo\n",
      "Processing Record 575|ngunguru\n",
      "Processing Record 576|pacific grove\n",
      "Processing Record 577|biak\n",
      "Processing Record 578|charters towers\n",
      "Processing Record 579|sao raimundo das mangabeiras\n",
      "Processing Record 580|lappeenranta\n",
      "Processing Record 581|domoni\n",
      "City not found. Skipping...\n",
      "Processing Record 583|rio gallegos\n",
      "Processing Record 584|kailua\n",
      "Processing Record 585|pipar\n",
      "Processing Record 586|skovorodino\n",
      "Processing Record 587|husavik\n",
      "Processing Record 588|gonbad-e qabus\n",
      "City not found. Skipping...\n",
      "Processing Record 590|avera\n",
      "Processing Record 591|lysva\n",
      "Processing Record 592|lagoa\n",
      "Processing Record 593|saurimo\n",
      "Processing Record 594|roald\n",
      "Processing Record 595|toora-khem\n",
      "Processing Record 596|plettenberg bay\n",
      "Processing Record 597|chapais\n",
      "Processing Record 598|malindi\n",
      "Processing Record 599|serra talhada\n",
      "Processing Record 600|sisimiut\n",
      "Processing Record 601|kargat\n",
      "Processing Record 602|henties bay\n",
      "Processing Record 603|port victoria\n",
      "Processing Record 604|cockburn town\n",
      "Processing Record 605|puerto madryn\n",
      "Processing Record 606|gizo\n",
      "Processing Record 607|aykhal\n",
      "Processing Record 608|novoomskiy\n",
      "Processing Record 609|dingzhou\n",
      "Processing Record 610|araouane\n",
      "Processing Record 611|wewak\n",
      "Processing Record 612|thurso\n",
      "Processing Record 613|duvan\n"
     ]
    }
   ],
   "source": [
    "url=\"http://api.openweathermap.org/data/2.5/weather?\"\n",
    "units=\"metric\"\n",
    "Cities=[]\n",
    "temp=[]\n",
    "lat=[]\n",
    "lng=[]\n",
    "cloudiness=[]\n",
    "wind_speed=[]\n",
    "max_temp=[]\n",
    "humidity=[]\n",
    "country=[]\n",
    "date=[]\n",
    "for index,city in enumerate(cities):\n",
    "   query_url = f\"{url}appid={weather_api_key}&units={units}&q={city}\"   \n",
    "   #print(query_url)\n",
    "    \n",
    "   try:\n",
    "       weather_data = requests.get(query_url).json()\n",
    "       lat.append(weather_data[\"coord\"][\"lat\"])\n",
    "       lng.append(weather_data[\"coord\"][\"lon\"])\n",
    "       temp.append(weather_data[\"main\"][\"temp\"])\n",
    "       cloudiness.append(weather_data[\"clouds\"][\"all\"])\n",
    "       wind_speed.append(weather_data[\"wind\"][\"speed\"])\n",
    "       max_temp.append(weather_data[\"main\"][\"temp_max\"])\n",
    "       humidity.append(weather_data[\"main\"][\"humidity\"])\n",
    "       country.append(weather_data[\"sys\"][\"country\"])\n",
    "       date.append(weather_data[\"dt\"])\n",
    "       Cities.append(weather_data[\"name\"])\n",
    "       \n",
    "       temperature=weather_data[\"main\"][\"temp\"]\n",
    "       print(f\"Processing Record {index}|{city}\")\n",
    "   except:\n",
    "        print(\"City not found. Skipping...\")\n",
    "        pass"
   ]
  },
  {
   "cell_type": "code",
   "execution_count": 5,
   "metadata": {},
   "outputs": [
    {
     "data": {
      "text/plain": [
       "573"
      ]
     },
     "execution_count": 5,
     "metadata": {},
     "output_type": "execute_result"
    }
   ],
   "source": [
    "len(Cities)"
   ]
  },
  {
   "cell_type": "markdown",
   "metadata": {},
   "source": [
    "### Convert Raw Data to DataFrame\n",
    "* Export the city data into a .csv.\n",
    "* Display the DataFrame"
   ]
  },
  {
   "cell_type": "code",
   "execution_count": 6,
   "metadata": {},
   "outputs": [
    {
     "data": {
      "text/html": [
       "<div>\n",
       "<style scoped>\n",
       "    .dataframe tbody tr th:only-of-type {\n",
       "        vertical-align: middle;\n",
       "    }\n",
       "\n",
       "    .dataframe tbody tr th {\n",
       "        vertical-align: top;\n",
       "    }\n",
       "\n",
       "    .dataframe thead th {\n",
       "        text-align: right;\n",
       "    }\n",
       "</style>\n",
       "<table border=\"1\" class=\"dataframe\">\n",
       "  <thead>\n",
       "    <tr style=\"text-align: right;\">\n",
       "      <th></th>\n",
       "      <th>City</th>\n",
       "      <th>Lat</th>\n",
       "      <th>Lng</th>\n",
       "      <th>Max Temp</th>\n",
       "      <th>Humidity</th>\n",
       "      <th>Cloudiness</th>\n",
       "      <th>Wind Speed</th>\n",
       "      <th>Country</th>\n",
       "      <th>Date</th>\n",
       "    </tr>\n",
       "  </thead>\n",
       "  <tbody>\n",
       "    <tr>\n",
       "      <th>0</th>\n",
       "      <td>Albany</td>\n",
       "      <td>42.60</td>\n",
       "      <td>-73.97</td>\n",
       "      <td>20.56</td>\n",
       "      <td>75</td>\n",
       "      <td>34</td>\n",
       "      <td>2.45</td>\n",
       "      <td>US</td>\n",
       "      <td>1596447946</td>\n",
       "    </tr>\n",
       "    <tr>\n",
       "      <th>1</th>\n",
       "      <td>Dargaville</td>\n",
       "      <td>-35.93</td>\n",
       "      <td>173.88</td>\n",
       "      <td>10.59</td>\n",
       "      <td>93</td>\n",
       "      <td>41</td>\n",
       "      <td>2.26</td>\n",
       "      <td>NZ</td>\n",
       "      <td>1596448204</td>\n",
       "    </tr>\n",
       "    <tr>\n",
       "      <th>2</th>\n",
       "      <td>Bukachacha</td>\n",
       "      <td>52.98</td>\n",
       "      <td>116.92</td>\n",
       "      <td>16.25</td>\n",
       "      <td>78</td>\n",
       "      <td>100</td>\n",
       "      <td>4.57</td>\n",
       "      <td>RU</td>\n",
       "      <td>1596448205</td>\n",
       "    </tr>\n",
       "    <tr>\n",
       "      <th>3</th>\n",
       "      <td>Vila do Maio</td>\n",
       "      <td>15.13</td>\n",
       "      <td>-23.22</td>\n",
       "      <td>28.00</td>\n",
       "      <td>69</td>\n",
       "      <td>20</td>\n",
       "      <td>3.10</td>\n",
       "      <td>CV</td>\n",
       "      <td>1596448205</td>\n",
       "    </tr>\n",
       "    <tr>\n",
       "      <th>4</th>\n",
       "      <td>Ondjiva</td>\n",
       "      <td>-17.07</td>\n",
       "      <td>15.73</td>\n",
       "      <td>22.00</td>\n",
       "      <td>17</td>\n",
       "      <td>0</td>\n",
       "      <td>4.10</td>\n",
       "      <td>AO</td>\n",
       "      <td>1596448205</td>\n",
       "    </tr>\n",
       "  </tbody>\n",
       "</table>\n",
       "</div>"
      ],
      "text/plain": [
       "           City    Lat     Lng  Max Temp  Humidity  Cloudiness  Wind Speed  \\\n",
       "0        Albany  42.60  -73.97     20.56        75          34        2.45   \n",
       "1    Dargaville -35.93  173.88     10.59        93          41        2.26   \n",
       "2    Bukachacha  52.98  116.92     16.25        78         100        4.57   \n",
       "3  Vila do Maio  15.13  -23.22     28.00        69          20        3.10   \n",
       "4       Ondjiva -17.07   15.73     22.00        17           0        4.10   \n",
       "\n",
       "  Country        Date  \n",
       "0      US  1596447946  \n",
       "1      NZ  1596448204  \n",
       "2      RU  1596448205  \n",
       "3      CV  1596448205  \n",
       "4      AO  1596448205  "
      ]
     },
     "execution_count": 6,
     "metadata": {},
     "output_type": "execute_result"
    }
   ],
   "source": [
    "# create a data frame from cities, lat, and temp\n",
    "weather_dict = {\n",
    "    \"City\": Cities,\n",
    "    \"Lat\": lat,\n",
    "    \"Lng\": lng,\n",
    "    \"Max Temp\":max_temp,\n",
    "    \"Humidity\":humidity,\n",
    "    \"Cloudiness\":cloudiness,\n",
    "    \"Wind Speed\":wind_speed,\n",
    "    \"Country\":country,\n",
    "    \"Date\":date\n",
    "}\n",
    "\n",
    "weather_data_df=pd.DataFrame(weather_dict)\n",
    "weather_data_df.head()"
   ]
  },
  {
   "cell_type": "code",
   "execution_count": 49,
   "metadata": {},
   "outputs": [],
   "source": [
    "weather_data_df.to_csv(\"output_data/cities.csv\")"
   ]
  },
  {
   "cell_type": "markdown",
   "metadata": {},
   "source": [
    "## Inspect the data and remove the cities where the humidity > 100%.\n",
    "----\n",
    "Skip this step if there are no cities that have humidity > 100%. "
   ]
  },
  {
   "cell_type": "code",
   "execution_count": 8,
   "metadata": {},
   "outputs": [
    {
     "data": {
      "text/html": [
       "<div>\n",
       "<style scoped>\n",
       "    .dataframe tbody tr th:only-of-type {\n",
       "        vertical-align: middle;\n",
       "    }\n",
       "\n",
       "    .dataframe tbody tr th {\n",
       "        vertical-align: top;\n",
       "    }\n",
       "\n",
       "    .dataframe thead th {\n",
       "        text-align: right;\n",
       "    }\n",
       "</style>\n",
       "<table border=\"1\" class=\"dataframe\">\n",
       "  <thead>\n",
       "    <tr style=\"text-align: right;\">\n",
       "      <th></th>\n",
       "      <th>City</th>\n",
       "      <th>Lat</th>\n",
       "      <th>Lng</th>\n",
       "      <th>Max Temp</th>\n",
       "      <th>Humidity</th>\n",
       "      <th>Cloudiness</th>\n",
       "      <th>Wind Speed</th>\n",
       "      <th>Country</th>\n",
       "      <th>Date</th>\n",
       "    </tr>\n",
       "  </thead>\n",
       "  <tbody>\n",
       "  </tbody>\n",
       "</table>\n",
       "</div>"
      ],
      "text/plain": [
       "Empty DataFrame\n",
       "Columns: [City, Lat, Lng, Max Temp, Humidity, Cloudiness, Wind Speed, Country, Date]\n",
       "Index: []"
      ]
     },
     "execution_count": 8,
     "metadata": {},
     "output_type": "execute_result"
    }
   ],
   "source": [
    "humidity_df=weather_data_df.loc[weather_data_df[\"Humidity\"]>100]\n",
    "humidity_df"
   ]
  },
  {
   "cell_type": "code",
   "execution_count": 9,
   "metadata": {},
   "outputs": [],
   "source": [
    "#  Get the indices of cities that have humidity over 100%.\n"
   ]
  },
  {
   "cell_type": "code",
   "execution_count": 10,
   "metadata": {},
   "outputs": [],
   "source": [
    "# Make a new DataFrame equal to the city data to drop all humidity outliers by index.\n",
    "# Passing \"inplace=False\" will make a copy of the city_data DataFrame, which we call \"clean_city_data\".\n"
   ]
  },
  {
   "cell_type": "code",
   "execution_count": 11,
   "metadata": {},
   "outputs": [],
   "source": [
    "# Extract relevant fields from the data frame\n",
    "\n",
    "\n",
    "# Export the City_Data into a csv\n"
   ]
  },
  {
   "cell_type": "markdown",
   "metadata": {},
   "source": [
    "## Plotting the Data\n",
    "* Use proper labeling of the plots using plot titles (including date of analysis) and axes labels.\n",
    "* Save the plotted figures as .pngs."
   ]
  },
  {
   "cell_type": "markdown",
   "metadata": {},
   "source": [
    "## Latitude vs. Temperature Plot"
   ]
  },
  {
   "cell_type": "code",
   "execution_count": 12,
   "metadata": {
    "scrolled": true
   },
   "outputs": [
    {
     "data": {
      "image/png": "[encoded data removed]",
      "text/plain": [
       "<Figure size 432x288 with 1 Axes>"
      ]
     },
     "metadata": {
      "needs_background": "light"
     },
     "output_type": "display_data"
    }
   ],
   "source": [
    "plt.scatter(weather_data_df[\"Lat\"],weather_data_df[\"Max Temp\"])\n",
    "plt.title(\"City Latitude vs. Max Temperature (%s)\" % time.strftime(\"%x\"))\n",
    "plt.xlabel(\"Latitude \")\n",
    "plt.ylabel(\"Temperature Plot\")\n",
    "plt.grid()\n",
    "plt.savefig(\"output_data/one.png\")\n",
    "plt.show()"
   ]
  },
  {
   "cell_type": "markdown",
   "metadata": {},
   "source": [
    "## Latitude vs. Humidity Plot"
   ]
  },
  {
   "cell_type": "code",
   "execution_count": 47,
   "metadata": {},
   "outputs": [
    {
     "data": {
      "image/png": "[encoded data removed]",
      "text/plain": [
       "<Figure size 432x288 with 1 Axes>"
      ]
     },
     "metadata": {
      "needs_background": "light"
     },
     "output_type": "display_data"
    }
   ],
   "source": [
    "plt.scatter(weather_data_df[\"Lat\"],weather_data_df[\"Humidity\"])\n",
    "plt.title(\"City Latitude vs. Humidity(%s)\" % time.strftime(\"%x\"))\n",
    "plt.xlabel(\"Latitude \")\n",
    "plt.ylabel(\"Humidity\")\n",
    "plt.grid()\n",
    "plt.savefig(\"output_data/two.png\")\n",
    "plt.show()\n"
   ]
  },
  {
   "cell_type": "markdown",
   "metadata": {},
   "source": [
    "## Latitude vs. Cloudiness Plot"
   ]
  },
  {
   "cell_type": "code",
   "execution_count": 46,
   "metadata": {},
   "outputs": [
    {
     "data": {
      "image/png": "[encoded data removed]",
      "text/plain": [
       "<Figure size 432x288 with 1 Axes>"
      ]
     },
     "metadata": {
      "needs_background": "light"
     },
     "output_type": "display_data"
    }
   ],
   "source": [
    "plt.scatter(weather_data_df[\"Lat\"],weather_data_df[\"Cloudiness\"])\n",
    "plt.title(\"City Latitude vs. Cloudiness(%s)\" % time.strftime(\"%x\"))\n",
    "plt.xlabel(\"Latitude \")\n",
    "plt.ylabel(\"Cloudiness\")\n",
    "plt.grid()\n",
    "plt.savefig(\"output_data/three.png\")\n",
    "plt.show()"
   ]
  },
  {
   "cell_type": "markdown",
   "metadata": {},
   "source": [
    "## Latitude vs. Wind Speed Plot"
   ]
  },
  {
   "cell_type": "code",
   "execution_count": 48,
   "metadata": {},
   "outputs": [
    {
     "data": {
      "image/png": "[encoded data removed]",
      "text/plain": [
       "<Figure size 432x288 with 1 Axes>"
      ]
     },
     "metadata": {
      "needs_background": "light"
     },
     "output_type": "display_data"
    }
   ],
   "source": [
    "plt.scatter(weather_data_df[\"Lat\"],weather_data_df[\"Wind Speed\"])\n",
    "plt.title(\"City Latitude vs. Wind Speed(%s)\" % time.strftime(\"%x\"))\n",
    "plt.xlabel(\"Latitude \")\n",
    "plt.ylabel(\"Wind Speed\")\n",
    "plt.grid()\n",
    "plt.savefig(\"output_data/four.png\")\n",
    "plt.show()"
   ]
  },
  {
   "cell_type": "markdown",
   "metadata": {},
   "source": [
    "## Linear Regression"
   ]
  },
  {
   "cell_type": "code",
   "execution_count": 25,
   "metadata": {},
   "outputs": [],
   "source": [
    "# OPTIONAL: Create a function to create Linear Regression plots\n",
    "def linearplot(x_axis,y_axis,y_label,coord):\n",
    "\n",
    "        (slope, intercept, rvalue, pvalue, stderr) = st.linregress(x_axis, y_axis)\n",
    "        regress_values = x_axis * slope + intercept\n",
    "        line_eq = \"y = \" + str(round(slope,2)) + \"x + \" + str(round(intercept,2))\n",
    "        plt.scatter(x_axis,y_axis)\n",
    "        plt.plot(x_axis,regress_values,\"r-\")\n",
    "        plt.annotate(line_eq,coord,fontsize=15,color=\"red\")\n",
    "\n",
    "        plt.xlabel('Latitude')\n",
    "        plt.ylabel(y_label)\n",
    "        print(rvalue)\n",
    "        \n",
    "        plt.show()"
   ]
  },
  {
   "cell_type": "code",
   "execution_count": 26,
   "metadata": {},
   "outputs": [
    {
     "data": {
      "text/html": [
       "<div>\n",
       "<style scoped>\n",
       "    .dataframe tbody tr th:only-of-type {\n",
       "        vertical-align: middle;\n",
       "    }\n",
       "\n",
       "    .dataframe tbody tr th {\n",
       "        vertical-align: top;\n",
       "    }\n",
       "\n",
       "    .dataframe thead th {\n",
       "        text-align: right;\n",
       "    }\n",
       "</style>\n",
       "<table border=\"1\" class=\"dataframe\">\n",
       "  <thead>\n",
       "    <tr style=\"text-align: right;\">\n",
       "      <th></th>\n",
       "      <th>City</th>\n",
       "      <th>Lat</th>\n",
       "      <th>Lng</th>\n",
       "      <th>Max Temp</th>\n",
       "      <th>Humidity</th>\n",
       "      <th>Cloudiness</th>\n",
       "      <th>Wind Speed</th>\n",
       "      <th>Country</th>\n",
       "      <th>Date</th>\n",
       "    </tr>\n",
       "  </thead>\n",
       "  <tbody>\n",
       "    <tr>\n",
       "      <th>0</th>\n",
       "      <td>Albany</td>\n",
       "      <td>42.60</td>\n",
       "      <td>-73.97</td>\n",
       "      <td>20.56</td>\n",
       "      <td>75</td>\n",
       "      <td>34</td>\n",
       "      <td>2.45</td>\n",
       "      <td>US</td>\n",
       "      <td>1596447946</td>\n",
       "    </tr>\n",
       "    <tr>\n",
       "      <th>2</th>\n",
       "      <td>Bukachacha</td>\n",
       "      <td>52.98</td>\n",
       "      <td>116.92</td>\n",
       "      <td>16.25</td>\n",
       "      <td>78</td>\n",
       "      <td>100</td>\n",
       "      <td>4.57</td>\n",
       "      <td>RU</td>\n",
       "      <td>1596448205</td>\n",
       "    </tr>\n",
       "    <tr>\n",
       "      <th>3</th>\n",
       "      <td>Vila do Maio</td>\n",
       "      <td>15.13</td>\n",
       "      <td>-23.22</td>\n",
       "      <td>28.00</td>\n",
       "      <td>69</td>\n",
       "      <td>20</td>\n",
       "      <td>3.10</td>\n",
       "      <td>CV</td>\n",
       "      <td>1596448205</td>\n",
       "    </tr>\n",
       "    <tr>\n",
       "      <th>5</th>\n",
       "      <td>Chokurdakh</td>\n",
       "      <td>70.63</td>\n",
       "      <td>147.92</td>\n",
       "      <td>10.08</td>\n",
       "      <td>66</td>\n",
       "      <td>100</td>\n",
       "      <td>3.25</td>\n",
       "      <td>RU</td>\n",
       "      <td>1596448205</td>\n",
       "    </tr>\n",
       "    <tr>\n",
       "      <th>7</th>\n",
       "      <td>Ardakān</td>\n",
       "      <td>32.31</td>\n",
       "      <td>54.02</td>\n",
       "      <td>41.00</td>\n",
       "      <td>10</td>\n",
       "      <td>20</td>\n",
       "      <td>3.10</td>\n",
       "      <td>IR</td>\n",
       "      <td>1596448205</td>\n",
       "    </tr>\n",
       "    <tr>\n",
       "      <th>...</th>\n",
       "      <td>...</td>\n",
       "      <td>...</td>\n",
       "      <td>...</td>\n",
       "      <td>...</td>\n",
       "      <td>...</td>\n",
       "      <td>...</td>\n",
       "      <td>...</td>\n",
       "      <td>...</td>\n",
       "      <td>...</td>\n",
       "    </tr>\n",
       "    <tr>\n",
       "      <th>567</th>\n",
       "      <td>Novoomskiy</td>\n",
       "      <td>54.84</td>\n",
       "      <td>73.30</td>\n",
       "      <td>35.00</td>\n",
       "      <td>17</td>\n",
       "      <td>0</td>\n",
       "      <td>6.00</td>\n",
       "      <td>RU</td>\n",
       "      <td>1596448320</td>\n",
       "    </tr>\n",
       "    <tr>\n",
       "      <th>568</th>\n",
       "      <td>Dingzhou</td>\n",
       "      <td>38.51</td>\n",
       "      <td>115.00</td>\n",
       "      <td>34.00</td>\n",
       "      <td>52</td>\n",
       "      <td>22</td>\n",
       "      <td>2.00</td>\n",
       "      <td>CN</td>\n",
       "      <td>1596448320</td>\n",
       "    </tr>\n",
       "    <tr>\n",
       "      <th>569</th>\n",
       "      <td>Araouane</td>\n",
       "      <td>18.90</td>\n",
       "      <td>-3.53</td>\n",
       "      <td>36.71</td>\n",
       "      <td>38</td>\n",
       "      <td>100</td>\n",
       "      <td>7.24</td>\n",
       "      <td>ML</td>\n",
       "      <td>1596448320</td>\n",
       "    </tr>\n",
       "    <tr>\n",
       "      <th>571</th>\n",
       "      <td>Thurso</td>\n",
       "      <td>58.59</td>\n",
       "      <td>-3.53</td>\n",
       "      <td>14.00</td>\n",
       "      <td>62</td>\n",
       "      <td>20</td>\n",
       "      <td>5.10</td>\n",
       "      <td>GB</td>\n",
       "      <td>1596448320</td>\n",
       "    </tr>\n",
       "    <tr>\n",
       "      <th>572</th>\n",
       "      <td>Duvan</td>\n",
       "      <td>55.70</td>\n",
       "      <td>57.90</td>\n",
       "      <td>22.04</td>\n",
       "      <td>77</td>\n",
       "      <td>100</td>\n",
       "      <td>1.25</td>\n",
       "      <td>RU</td>\n",
       "      <td>1596448321</td>\n",
       "    </tr>\n",
       "  </tbody>\n",
       "</table>\n",
       "<p>386 rows × 9 columns</p>\n",
       "</div>"
      ],
      "text/plain": [
       "             City    Lat     Lng  Max Temp  Humidity  Cloudiness  Wind Speed  \\\n",
       "0          Albany  42.60  -73.97     20.56        75          34        2.45   \n",
       "2      Bukachacha  52.98  116.92     16.25        78         100        4.57   \n",
       "3    Vila do Maio  15.13  -23.22     28.00        69          20        3.10   \n",
       "5      Chokurdakh  70.63  147.92     10.08        66         100        3.25   \n",
       "7         Ardakān  32.31   54.02     41.00        10          20        3.10   \n",
       "..            ...    ...     ...       ...       ...         ...         ...   \n",
       "567    Novoomskiy  54.84   73.30     35.00        17           0        6.00   \n",
       "568      Dingzhou  38.51  115.00     34.00        52          22        2.00   \n",
       "569      Araouane  18.90   -3.53     36.71        38         100        7.24   \n",
       "571        Thurso  58.59   -3.53     14.00        62          20        5.10   \n",
       "572         Duvan  55.70   57.90     22.04        77         100        1.25   \n",
       "\n",
       "    Country        Date  \n",
       "0        US  1596447946  \n",
       "2        RU  1596448205  \n",
       "3        CV  1596448205  \n",
       "5        RU  1596448205  \n",
       "7        IR  1596448205  \n",
       "..      ...         ...  \n",
       "567      RU  1596448320  \n",
       "568      CN  1596448320  \n",
       "569      ML  1596448320  \n",
       "571      GB  1596448320  \n",
       "572      RU  1596448321  \n",
       "\n",
       "[386 rows x 9 columns]"
      ]
     },
     "execution_count": 26,
     "metadata": {},
     "output_type": "execute_result"
    }
   ],
   "source": [
    "# Create Northern and Southern Hemisphere DataFrames\n",
    "n_df=weather_data_df.loc[weather_data_df[\"Lat\"]>=0]\n",
    "s_df=weather_data_df.loc[weather_data_df[\"Lat\"]<0]\n",
    "n_df"
   ]
  },
  {
   "cell_type": "markdown",
   "metadata": {},
   "source": [
    "####  Northern Hemisphere - Max Temp vs. Latitude Linear Regression"
   ]
  },
  {
   "cell_type": "code",
   "execution_count": 27,
   "metadata": {},
   "outputs": [
    {
     "name": "stdout",
     "output_type": "stream",
     "text": [
      "-0.6210772666572417\n"
     ]
    },
    {
     "data": {
      "image/png": "[encoded data removed]",
      "text/plain": [
       "<Figure size 432x288 with 1 Axes>"
      ]
     },
     "metadata": {
      "needs_background": "light"
     },
     "output_type": "display_data"
    }
   ],
   "source": [
    "x_axis=n_df[\"Lat\"]\n",
    "y_axis=n_df[\"Max Temp\"]\n",
    "y_label=\"Max Temp\"\n",
    "coord=(10,10)\n",
    "linearplot(x_axis,y_axis,y_label,coord)\n"
   ]
  },
  {
   "cell_type": "markdown",
   "metadata": {},
   "source": [
    "####  Southern Hemisphere - Max Temp vs. Latitude Linear Regression"
   ]
  },
  {
   "cell_type": "code",
   "execution_count": 28,
   "metadata": {},
   "outputs": [
    {
     "name": "stdout",
     "output_type": "stream",
     "text": [
      "0.7427573682947797\n"
     ]
    },
    {
     "data": {
      "image/png": "[encoded data removed]",
      "text/plain": [
       "<Figure size 432x288 with 1 Axes>"
      ]
     },
     "metadata": {
      "needs_background": "light"
     },
     "output_type": "display_data"
    }
   ],
   "source": [
    "x_axis=s_df[\"Lat\"]\n",
    "y_axis=s_df[\"Max Temp\"]\n",
    "y_label=[\"Max Temp\"]\n",
    "coord=(-50,25)\n",
    "linearplot(x_axis,y_axis,y_label,coord)"
   ]
  },
  {
   "cell_type": "markdown",
   "metadata": {},
   "source": [
    "####  Northern Hemisphere - Humidity (%) vs. Latitude Linear Regression"
   ]
  },
  {
   "cell_type": "code",
   "execution_count": 32,
   "metadata": {},
   "outputs": [
    {
     "name": "stdout",
     "output_type": "stream",
     "text": [
      "-0.01584888533448779\n"
     ]
    },
    {
     "data": {
      "image/png": "[encoded data removed]",
      "text/plain": [
       "<Figure size 432x288 with 1 Axes>"
      ]
     },
     "metadata": {
      "needs_background": "light"
     },
     "output_type": "display_data"
    }
   ],
   "source": [
    "x_axis=n_df[\"Lat\"]\n",
    "y_axis=n_df[\"Humidity\"]\n",
    "y_label=\"Humidity\"\n",
    "coord=(10,10)\n",
    "linearplot(x_axis,y_axis,y_label,coord)"
   ]
  },
  {
   "cell_type": "markdown",
   "metadata": {},
   "source": [
    "####  Southern Hemisphere - Humidity (%) vs. Latitude Linear Regression"
   ]
  },
  {
   "cell_type": "code",
   "execution_count": 34,
   "metadata": {},
   "outputs": [
    {
     "name": "stdout",
     "output_type": "stream",
     "text": [
      "0.04553467538811639\n"
     ]
    },
    {
     "data": {
      "image/png": "[encoded data removed]",
      "text/plain": [
       "<Figure size 432x288 with 1 Axes>"
      ]
     },
     "metadata": {
      "needs_background": "light"
     },
     "output_type": "display_data"
    }
   ],
   "source": []
  },
  {
   "cell_type": "markdown",
   "metadata": {},
   "source": [
    "####  Northern Hemisphere - Cloudiness (%) vs. Latitude Linear Regression"
   ]
  },
  {
   "cell_type": "code",
   "execution_count": 35,
   "metadata": {},
   "outputs": [
    {
     "name": "stdout",
     "output_type": "stream",
     "text": [
      "0.026289118240464482\n"
     ]
    },
    {
     "data": {
      "image/png": "[encoded data removed]",
      "text/plain": [
       "<Figure size 432x288 with 1 Axes>"
      ]
     },
     "metadata": {
      "needs_background": "light"
     },
     "output_type": "display_data"
    }
   ],
   "source": [
    "x_axis=n_df[\"Lat\"]\n",
    "y_axis=n_df[\"Cloudiness\"]\n",
    "y_label=\"Cloudiness\"\n",
    "coord=(10,10)\n",
    "linearplot(x_axis,y_axis,y_label,coord)"
   ]
  },
  {
   "cell_type": "markdown",
   "metadata": {},
   "source": [
    "####  Southern Hemisphere - Cloudiness (%) vs. Latitude Linear Regression"
   ]
  },
  {
   "cell_type": "code",
   "execution_count": 36,
   "metadata": {},
   "outputs": [
    {
     "name": "stdout",
     "output_type": "stream",
     "text": [
      "-0.09864634033259541\n"
     ]
    },
    {
     "data": {
      "image/png": "[encoded data removed]",
      "text/plain": [
       "<Figure size 432x288 with 1 Axes>"
      ]
     },
     "metadata": {
      "needs_background": "light"
     },
     "output_type": "display_data"
    }
   ],
   "source": [
    "x_axis=s_df[\"Lat\"]\n",
    "y_axis=s_df[\"Cloudiness\"]\n",
    "y_label=\"Cloudiness\"\n",
    "coord=(-50,25)\n",
    "linearplot(x_axis,y_axis,y_label,coord)"
   ]
  },
  {
   "cell_type": "markdown",
   "metadata": {},
   "source": [
    "####  Northern Hemisphere - Wind Speed (mph) vs. Latitude Linear Regression"
   ]
  },
  {
   "cell_type": "code",
   "execution_count": 37,
   "metadata": {},
   "outputs": [
    {
     "name": "stdout",
     "output_type": "stream",
     "text": [
      "-0.12684309322236775\n"
     ]
    },
    {
     "data": {
      "image/png": "[encoded data removed]",
      "text/plain": [
       "<Figure size 432x288 with 1 Axes>"
      ]
     },
     "metadata": {
      "needs_background": "light"
     },
     "output_type": "display_data"
    }
   ],
   "source": [
    "x_axis=n_df[\"Lat\"]\n",
    "y_axis=n_df[\"Wind Speed\"]\n",
    "y_label=\"Wind Speed\"\n",
    "coord=(10,10)\n",
    "linearplot(x_axis,y_axis,y_label,coord)"
   ]
  },
  {
   "cell_type": "markdown",
   "metadata": {},
   "source": [
    "####  Southern Hemisphere - Wind Speed (mph) vs. Latitude Linear Regression"
   ]
  },
  {
   "cell_type": "code",
   "execution_count": 38,
   "metadata": {},
   "outputs": [
    {
     "name": "stdout",
     "output_type": "stream",
     "text": [
      "-0.05067342510793929\n"
     ]
    },
    {
     "data": {
      "image/png": "[encoded data removed]",
      "text/plain": [
       "<Figure size 432x288 with 1 Axes>"
      ]
     },
     "metadata": {
      "needs_background": "light"
     },
     "output_type": "display_data"
    }
   ],
   "source": [
    "x_axis=s_df[\"Lat\"]\n",
    "y_axis=s_df[\"Wind Speed\"]\n",
    "y_label=\"Wind Speed\"\n",
    "coord=(-50,25)\n",
    "linearplot(x_axis,y_axis,y_label,coord)"
   ]
  },
  {
   "cell_type": "code",
   "execution_count": null,
   "metadata": {},
   "outputs": [],
   "source": []
  }
 ],
 "metadata": {
  "anaconda-cloud": {},
  "kernel_info": {
   "name": "python3"
  },
  "kernelspec": {
   "display_name": "Python 3",
   "language": "python",
   "name": "python3"
  },
  "language_info": {
   "codemirror_mode": {
    "name": "ipython",
    "version": 3
   },
   "file_extension": ".py",
   "mimetype": "text/x-python",
   "name": "python",
   "nbconvert_exporter": "python",
   "pygments_lexer": "ipython3",
   "version": "3.7.6"
  },
  "latex_envs": {
   "LaTeX_envs_menu_present": true,
   "autoclose": false,
   "autocomplete": true,
   "bibliofile": "biblio.bib",
   "cite_by": "apalike",
   "current_citInitial": 1,
   "eqLabelWithNumbers": true,
   "eqNumInitial": 1,
   "hotkeys": {
    "equation": "Ctrl-E",
    "itemize": "Ctrl-I"
   },
   "labels_anchors": false,
   "latex_user_defs": false,
   "report_style_numbering": false,
   "user_envs_cfg": false
  },
  "nteract": {
   "version": "0.12.3"
  }
 },
 "nbformat": 4,
 "nbformat_minor": 2
}
